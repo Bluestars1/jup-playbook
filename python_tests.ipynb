{
 "cells": [
  {
   "cell_type": "markdown",
   "metadata": {},
   "source": [
    "# Python tests\n",
    "\n",
    "First we need to import the required libraries."
   ]
  },
  {
   "cell_type": "code",
   "execution_count": 18,
   "metadata": {},
   "outputs": [],
   "source": [
    "import pandas as pd\n",
    "from openai import AzureOpenAI\n",
    "import os\n",
    "from dotenv import load_dotenv"
   ]
  },
  {
   "cell_type": "markdown",
   "metadata": {},
   "source": [
    "After that, we can initalize the Azure OpenAI client. This will allow us to connect to the Azure OpenAI model and get completions.\n",
    "\n",
    "We need to set the following environment variables:\n",
    "\n",
    "- AZURE_OPENAI_API_KEY\n",
    "- AZURE_OPENAI_ENDPOINT\n",
    "- AZURE_OPENAI_MODEL_VERSION\n",
    "\n",
    "For this we will use dotenv to load the environment variables."
   ]
  },
  {
   "cell_type": "code",
   "execution_count": 19,
   "metadata": {},
   "outputs": [],
   "source": [
    "load_dotenv()\n",
    "\n",
    "# Initialize Azure OpenAI client\n",
    "client = AzureOpenAI(\n",
    "    api_key=os.getenv(\"AZURE_OPENAI_API_KEY\"),\n",
    "    api_version=\"2024-02-01\",\n",
    "    azure_endpoint=os.getenv(\"AZURE_OPENAI_ENDPOINT\")\n",
    ")"
   ]
  },
  {
   "cell_type": "markdown",
   "metadata": {},
   "source": [
    "Next we can create a chat completion function to use on our model."
   ]
  },
  {
   "cell_type": "code",
   "execution_count": 20,
   "metadata": {},
   "outputs": [],
   "source": [
    "# Example function to connect to Azure OpenAI model\n",
    "def get_completion(prompt, model=\"gpt-4.1\"):\n",
    "    \"\"\"\n",
    "    Get completion from Azure OpenAI model\n",
    "    \"\"\"\n",
    "    response = client.chat.completions.create(\n",
    "        model=model,\n",
    "        messages=[\n",
    "            {\"role\": \"user\", \"content\": prompt}\n",
    "        ],\n",
    "        max_tokens=1000,\n",
    "        temperature=0.7\n",
    "    )\n",
    "    return response.choices[0].message.content"
   ]
  },
  {
   "cell_type": "markdown",
   "metadata": {},
   "source": [
    "Now we will test the connection to the Azure OpenAI model.\n",
    "\n",
    "Edit your prompt to test the connection to the Azure OpenAI model."
   ]
  },
  {
   "cell_type": "markdown",
   "metadata": {},
   "source": [
    "```html\n",
    "<input type=\"text\" name=\"name\" id=\"name\" value=\"John Doe\">\n",
    "```"
   ]
  },
  {
   "cell_type": "code",
   "execution_count": 39,
   "metadata": {},
   "outputs": [
    {
     "data": {
      "application/vnd.jupyter.widget-view+json": {
       "model_id": "efc2b5097b3744bcbb02b8a5d91f52ec",
       "version_major": 2,
       "version_minor": 0
      },
      "text/plain": [
       "Text(value='Give me icd 10 codes for diabetes.', description='Question:', layout=Layout(height='75px', padding…"
      ]
     },
     "metadata": {},
     "output_type": "display_data"
    }
   ],
   "source": [
    "import ipywidgets as widgets\n",
    "from IPython.display import display\n",
    "\n",
    "# Create a text input widget\n",
    "query_input = widgets.Text(\n",
    "    value='Give me icd 10 codes for diabetes.',\n",
    "    placeholder='Type your query',\n",
    "    description='Question:',\n",
    "    layout=widgets.Layout(width=\"80%\", height=\"75px\",padding=\"10px\")\n",
    ")\n",
    "\n",
    "# Display the widget in the cell\n",
    "display(query_input)"
   ]
  },
  {
   "cell_type": "code",
   "execution_count": null,
   "metadata": {},
   "outputs": [
    {
     "name": "stdout",
     "output_type": "stream",
     "text": [
      "Certainly! Below is a table listing common **ICD-10 codes for Type 2 diabetes mellitus** (excluding gestational and neonatal), along with their **descriptions** and **matching SNOMED CT codes**.\n",
      "\n",
      "| ICD-10 Code | ICD-10 Description                              | SNOMED CT Code | SNOMED CT Description                  |\n",
      "|:------------|:-----------------------------------------------|:--------------|:----------------------------------------|\n",
      "| E11         | Type 2 diabetes mellitus                       | 44054006      | Type 2 diabetes mellitus                |\n",
      "| E11.0       | Type 2 diabetes mellitus with hyperosmolarity  | 237599002     | Type 2 diabetes mellitus with hyperosmolarity |\n",
      "| E11.1       | Type 2 diabetes mellitus with ketoacidosis     | 237600000     | Type 2 diabetes mellitus with ketoacidosis    |\n",
      "| E11.2       | Type 2 diabetes mellitus with kidney complications | 90721000119102 | Type 2 diabetes mellitus with renal complication |\n",
      "| E11.3       | Type 2 diabetes mellitus with ophthalmic complications | 237603003     | Type 2 diabetes mellitus with ophthalmic complication |\n",
      "| E11.4       | Type 2 diabetes mellitus with neurological complications | 237605005     | Type 2 diabetes mellitus with neurological complication |\n",
      "| E11.5       | Type 2 diabetes mellitus with circulatory complications | 237606006     | Type 2 diabetes mellitus with circulatory complication |\n",
      "| E11.6       | Type 2 diabetes mellitus with other specified complications | 237607002     | Type 2 diabetes mellitus with other specified complication |\n",
      "| E11.8       | Type 2 diabetes mellitus with unspecified complications | 237608007     | Type 2 diabetes mellitus with unspecified complication |\n",
      "| E11.9       | Type 2 diabetes mellitus without complications | 444073006     | Type 2 diabetes mellitus without complication |\n",
      "\n",
      "**Notes:**\n",
      "- **Gestational diabetes (O24.x)** and **neonatal diabetes (P70.2)** are excluded.\n",
      "- SNOMED CT codes are the closest matches to the ICD-10 codes listed.\n",
      "\n",
      "Let me know if you need more specific subtypes or additional details!\n"
     ]
    }
   ],
   "source": [
    "def build_prompt(question: str) -> str:\n",
    "    return f\"\"\"\n",
    "You are a careful analyst. Follow the instructions precisely.\n",
    "\n",
    "# Input\n",
    "Question:\n",
    "{question}\n",
    "\n",
    "# Goal\n",
    "- Answer the question by producing a table that contains **exactly** the fields requested in the question (and only those fields, in that order).\n",
    "- After the table, provide a short prose section titled **\"Exclusions & Rationale\"** that explains which records were excluded and why.\n",
    "\n",
    "# Output Format (strict)\n",
    "1) First, output a Markdown table with a header row. The columns must match the requested fields **exactly** (names and order).\n",
    "2) Then output the section:\n",
    "   ### Exclusions & Rationale\n",
    "   - Briefly describe any records considered but excluded, with concrete reasons (e.g., missing required field, outside date range, duplicate, low confidence, conflicting source, not matching filters).\n",
    "   - If nothing was excluded, state: \"No records excluded.\"\n",
    "\n",
    "# Rules\n",
    "- Do **not** add extra columns or derived fields unless explicitly requested. If the question is ambiguous about fields, infer the minimal set and clearly state the assumption in **Exclusions & Rationale**.\n",
    "- Do **not** fabricate or guess values. If a specific field value is unavailable, leave the cell blank and explain the gap in **Exclusions & Rationale**.\n",
    "- Ensure consistent units, formats, and identifiers across the table (dates, currencies, IDs).\n",
    "- If no records match, output a header-only empty table (with the requested columns) and explain why no records qualified.\n",
    "- Remove duplicates; if deduping occurred, explain your approach in **Exclusions & Rationale**.\n",
    "- If the question implies filters (time ranges, categories, thresholds), apply them and mention them in **Exclusions & Rationale**.\n",
    "\n",
    "# Reflective Check (do this before finalizing)\n",
    "- Column names exactly match the requested fields and are in the correct order.\n",
    "- Every row adheres to all implied/explicit filters from the question.\n",
    "- No invented values; blanks are used where data is missing and reasons are documented.\n",
    "- No duplicates; totals and counts (if present) are internally consistent.\n",
    "- Units and formats are uniform (e.g., ISO-8601 dates, consistent currency symbols).\n",
    "- The **Exclusions & Rationale** section clearly lists exclusion reasons or states none.\n",
    "\n",
    "# Final Deliverable\n",
    "Return only:\n",
    "1) The Markdown table.\n",
    "2) The \"### Exclusions & Rationale\" section.\n",
    "No additional commentary.\n",
    "\"\"\"\n",
    "\n",
    "my_prompt: str = build_prompt(query_input.value)\n",
    "\n",
    "response = get_completion(my_prompt)\n",
    "print(response)"
   ]
  },
  {
   "cell_type": "code",
   "execution_count": null,
   "metadata": {},
   "outputs": [],
   "source": []
  }
 ],
 "metadata": {
  "kernelspec": {
   "display_name": ".venv",
   "language": "python",
   "name": "python3"
  },
  "language_info": {
   "codemirror_mode": {
    "name": "ipython",
    "version": 3
   },
   "file_extension": ".py",
   "mimetype": "text/x-python",
   "name": "python",
   "nbconvert_exporter": "python",
   "pygments_lexer": "ipython3",
   "version": "3.13.5"
  }
 },
 "nbformat": 4,
 "nbformat_minor": 4
}
